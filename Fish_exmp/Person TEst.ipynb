{
 "cells": [
  {
   "cell_type": "code",
   "execution_count": 41,
   "id": "689ffa6e",
   "metadata": {
    "scrolled": true
   },
   "outputs": [
    {
     "ename": "NameError",
     "evalue": "name 'kwargs' is not defined",
     "output_type": "error",
     "traceback": [
      "\u001b[1;31m---------------------------------------------------------------------------\u001b[0m",
      "\u001b[1;31mNameError\u001b[0m                                 Traceback (most recent call last)",
      "Cell \u001b[1;32mIn[41], line 32\u001b[0m\n\u001b[0;32m     26\u001b[0m         \u001b[38;5;28;01mreturn\u001b[39;00m \u001b[38;5;28;01mTrue\u001b[39;00m\n\u001b[0;32m     28\u001b[0m \u001b[38;5;66;03m#     def employee_info(self):\u001b[39;00m\n\u001b[0;32m     29\u001b[0m \u001b[38;5;66;03m#         print('Данные экземпляра:',self.name, '\\n',\u001b[39;00m\n\u001b[0;32m     30\u001b[0m \u001b[38;5;66;03m#              self.idNum)\u001b[39;00m\n\u001b[1;32m---> 32\u001b[0m pers_1 \u001b[38;5;241m=\u001b[39m \u001b[43mPerson\u001b[49m\u001b[43m(\u001b[49m\u001b[38;5;124;43m'\u001b[39;49m\u001b[38;5;124;43mKit\u001b[39;49m\u001b[38;5;124;43m'\u001b[39;49m\u001b[43m,\u001b[49m\u001b[43m \u001b[49m\u001b[38;5;241;43m1234\u001b[39;49m\u001b[43m,\u001b[49m\u001b[43m \u001b[49m\u001b[38;5;124;43m'\u001b[39;49m\u001b[38;5;124;43m12.06.77\u001b[39;49m\u001b[38;5;124;43m'\u001b[39;49m\u001b[43m)\u001b[49m\n\u001b[0;32m     34\u001b[0m pers_2 \u001b[38;5;241m=\u001b[39m Person(\u001b[38;5;124m'\u001b[39m\u001b[38;5;124mJoel\u001b[39m\u001b[38;5;124m'\u001b[39m, \u001b[38;5;241m1001\u001b[39m, \u001b[38;5;124m'\u001b[39m\u001b[38;5;124m13.05.66\u001b[39m\u001b[38;5;124m'\u001b[39m)\n\u001b[0;32m     35\u001b[0m emp \u001b[38;5;241m=\u001b[39m Empl_1(\u001b[38;5;124m'\u001b[39m\u001b[38;5;124mNumber_two\u001b[39m\u001b[38;5;124m'\u001b[39m, \u001b[38;5;241m1002\u001b[39m, \u001b[38;5;124m'\u001b[39m\u001b[38;5;124msecurity\u001b[39m\u001b[38;5;124m'\u001b[39m, \u001b[38;5;241m30000\u001b[39m)\n",
      "Cell \u001b[1;32mIn[41], line 6\u001b[0m, in \u001b[0;36mPerson.__init__\u001b[1;34m(self, name, idNum, birth_date)\u001b[0m\n\u001b[0;32m      4\u001b[0m \u001b[38;5;28mself\u001b[39m\u001b[38;5;241m.\u001b[39midNum \u001b[38;5;241m=\u001b[39m idNum\n\u001b[0;32m      5\u001b[0m \u001b[38;5;28mself\u001b[39m\u001b[38;5;241m.\u001b[39mbith_date \u001b[38;5;241m=\u001b[39m birth_date\n\u001b[1;32m----> 6\u001b[0m \u001b[38;5;28msuper\u001b[39m()\u001b[38;5;241m.\u001b[39m\u001b[38;5;21m__init__\u001b[39m(\u001b[38;5;241m*\u001b[39m\u001b[38;5;241m*\u001b[39m\u001b[43mkwargs\u001b[49m)\n",
      "\u001b[1;31mNameError\u001b[0m: name 'kwargs' is not defined"
     ]
    }
   ],
   "source": [
    "class Person:\n",
    "    def __init__(self, name, idNum, birth_date):\n",
    "        self.name = name\n",
    "        self.idNum = idNum\n",
    "        self.bith_date = birth_date\n",
    "        super().__init__(**kwargs)\n",
    "        \n",
    "        \n",
    "    def get_info(self):\n",
    "        print('Данные экземпляра:',self.name, '\\n',\n",
    "             self.idNum,'\\n',\n",
    "             self.birth_date)\n",
    "    \n",
    "    def is_Employee(self):\n",
    "        return False\n",
    "\n",
    "class Empl_1(Person):\n",
    "    def __init__(self, departm, salary):\n",
    "        self.departm\n",
    "        self.salary\n",
    "        \n",
    "#     Person.__init__(self, name, idNum, birth_date)\n",
    "    \n",
    "    \n",
    "    def is_Employee(self):\n",
    "        return True\n",
    "    \n",
    "#     def employee_info(self):\n",
    "#         print('Данные экземпляра:',self.name, '\\n',\n",
    "#              self.idNum)\n",
    "\n",
    "pers_1 = Person('Kit', 1234, '12.06.77')\n",
    "\n",
    "pers_2 = Person('Joel', 1001, '13.05.66')\n",
    "emp = Empl_1('Number_two', 1002, 'security', 30000)\n"
   ]
  },
  {
   "cell_type": "code",
   "execution_count": null,
   "id": "0df55a82",
   "metadata": {},
   "outputs": [],
   "source": []
  }
 ],
 "metadata": {
  "kernelspec": {
   "display_name": "Python 3 (ipykernel)",
   "language": "python",
   "name": "python3"
  },
  "language_info": {
   "codemirror_mode": {
    "name": "ipython",
    "version": 3
   },
   "file_extension": ".py",
   "mimetype": "text/x-python",
   "name": "python",
   "nbconvert_exporter": "python",
   "pygments_lexer": "ipython3",
   "version": "3.11.2"
  }
 },
 "nbformat": 4,
 "nbformat_minor": 5
}
