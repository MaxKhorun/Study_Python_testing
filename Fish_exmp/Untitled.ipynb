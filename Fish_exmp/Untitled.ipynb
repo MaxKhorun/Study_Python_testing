{
 "cells": [
  {
   "cell_type": "code",
   "execution_count": 13,
   "id": "ee2da58e-ba37-430e-a539-15eabb6f4efd",
   "metadata": {
    "tags": []
   },
   "outputs": [
    {
     "name": "stdout",
     "output_type": "stream",
     "text": [
      "The anemone is protecting the clownfish.\n",
      "Coral lives in a community.\n"
     ]
    }
   ],
   "source": [
    "class Fish:\n",
    "    def __init__(self, first_name, last_name='Fish',\n",
    "                skeleton = 'bone', eyelids = False):\n",
    "        self.first_name = first_name\n",
    "        self.last_name = last_name\n",
    "        self.skeleton = skeleton\n",
    "        self.eyelids = eyelids\n",
    "    \n",
    "    def swim(self):\n",
    "        print('This fish is swimming')\n",
    "        \n",
    "    def swim_backw(self):\n",
    "        print('This fish can swim backwards')\n",
    "        \n",
    "class Trout(Fish):\n",
    "    def __init__(self, water = 'freshwater'):\n",
    "        self.water = water\n",
    "\n",
    "class Gold_Fish(Fish):\n",
    "    pass\n",
    "\n",
    "terry = Trout('Terry')\n",
    "\n",
    "class Clownfish(Fish):\n",
    "    \n",
    "    def fit_anemone(self):\n",
    "        print('The clownfish is coexisting with sea anemone.')\n",
    "\n",
    "casey = Clownfish('Casye')\n",
    "\n",
    "class Shark(Fish):\n",
    "    \n",
    "    def __init__(self, first_name, last_name, skeleton = 'cartilage', eyelids = True):\n",
    "        self.skeleton = skeleton\n",
    "        self.eyelids = eyelids\n",
    "        self.first_name = first_name\n",
    "        self.last_name = last_name\n",
    "    \n",
    "    def swim_backw(self):\n",
    "        print('The shark cannot swim backwards, but can sink backwards.')\n",
    "\n",
    "sammy = Shark(first_name = 'Sammy', last_name = 'The Shark')\n",
    "\n",
    "class Coral:\n",
    "    def community(self):\n",
    "        print('Coral lives in a community.')\n",
    "\n",
    "class Anemone():\n",
    "    def protect_Clownfish(self):\n",
    "        print('The anemone is protecting the clownfish.')\n",
    "        \n",
    "class CoralReef(Coral, Anemone):\n",
    "    pass\n",
    "\n",
    "great_barrier = CoralReef()\n",
    "\n",
    "\n",
    "great_barrier.protect_Clownfish()\n",
    "great_barrier.community()\n",
    "      \n",
    "# print('Some data')"
   ]
  },
  {
   "cell_type": "code",
   "execution_count": null,
   "id": "e0f127ac",
   "metadata": {},
   "outputs": [],
   "source": []
  }
 ],
 "metadata": {
  "kernelspec": {
   "display_name": "Python 3 (ipykernel)",
   "language": "python",
   "name": "python3"
  },
  "language_info": {
   "codemirror_mode": {
    "name": "ipython",
    "version": 3
   },
   "file_extension": ".py",
   "mimetype": "text/x-python",
   "name": "python",
   "nbconvert_exporter": "python",
   "pygments_lexer": "ipython3",
   "version": "3.11.2"
  }
 },
 "nbformat": 4,
 "nbformat_minor": 5
}
